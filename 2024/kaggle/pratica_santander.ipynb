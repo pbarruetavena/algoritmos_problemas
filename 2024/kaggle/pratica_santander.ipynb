{
  "cells": [
    {
      "cell_type": "markdown",
      "metadata": {
        "id": "igk1hrDRWVqm"
      },
      "source": [
        "### Santander Customer Transaction Prediction"
      ]
    },
    {
      "cell_type": "code",
      "execution_count": null,
      "metadata": {
        "colab": {
          "base_uri": "https://localhost:8080/"
        },
        "id": "ClGvasdYVz6w",
        "outputId": "a139238d-7138-4d2a-e992-ee4f8e849f27"
      },
      "outputs": [
        {
          "name": "stdout",
          "output_type": "stream",
          "text": [
            "Mounted at /gdrive\n",
            "/gdrive/MyDrive/tei\n"
          ]
        }
      ],
      "source": [
        "from google.colab import drive\n",
        "\n",
        "drive.mount('/gdrive')\n",
        "%cd /gdrive/MyDrive/tei"
      ]
    },
    {
      "cell_type": "code",
      "execution_count": null,
      "metadata": {
        "id": "0gEybKfhWz1S"
      },
      "outputs": [],
      "source": [
        "import pandas as pd\n",
        "\n",
        "train_df = pd.read_csv('train.csv')\n",
        "test_df = pd.read_csv('test.csv')"
      ]
    },
    {
      "cell_type": "code",
      "execution_count": null,
      "metadata": {
        "id": "mIIzmAwgXdcA"
      },
      "outputs": [],
      "source": [
        "X_train = train_df.drop(columns=[\"ID\", \"TARGET\"]) #remove as colunas ID_code e target\n",
        "y_train = train_df[\"TARGET\"]"
      ]
    },
    {
      "cell_type": "code",
      "execution_count": null,
      "metadata": {
        "id": "bW3CXVHkXTrS"
      },
      "outputs": [],
      "source": [
        "import pandas as pd\n",
        "from sklearn.model_selection import cross_validate\n",
        "from sklearn.naive_bayes import GaussianNB\n",
        "from sklearn.tree import DecisionTreeClassifier\n",
        "from sklearn.svm import SVC\n",
        "from sklearn.metrics import make_scorer, accuracy_score, f1_score\n",
        "\n",
        "nb = GaussianNB()\n",
        "dt = DecisionTreeClassifier()\n",
        "svm = SVC()\n",
        "\n",
        "scoring = {\n",
        "    'accuracy': make_scorer(accuracy_score),\n",
        "    'f1_macro': make_scorer(f1_score, average='macro')\n",
        "}\n"
      ]
    },
    {
      "cell_type": "code",
      "execution_count": null,
      "metadata": {
        "id": "oCaWZfRMYp28"
      },
      "outputs": [],
      "source": [
        "# naive bayers\n",
        "cv_nb = cross_validate(nb, X_train, y_train, cv=5, scoring=scoring)\n",
        "accuracy_nb = cv_nb['test_accuracy'].mean()\n",
        "f1_macro_nb = cv_nb['test_f1_macro'].mean()\n",
        "\n",
        "\n",
        "# decision tree\n",
        "cv_dt = cross_validate(dt, X_train, y_train, cv=5, scoring=scoring)\n",
        "accuracy_dt = cv_dt['test_accuracy'].mean()\n",
        "f1_macro_dt = cv_dt['test_f1_macro'].mean()\n",
        "\n",
        "\n",
        "# SVM\n",
        "cv_svm = cross_validate(svm, X_train, y_train, cv=5, scoring=scoring)\n",
        "accuracy_svm = cv_svm['test_accuracy'].mean()\n",
        "f1_macro_svm = cv_svm['test_f1_macro'].mean()"
      ]
    },
    {
      "cell_type": "code",
      "execution_count": null,
      "metadata": {
        "id": "AATd8a2kcLui"
      },
      "outputs": [],
      "source": [
        "resultado = pd.DataFrame({\n",
        "    'Classificador': ['Naive Bayes', 'Decision Tree', 'SVM'],\n",
        "    'Acurácia': [accuracy_nb, accuracy_dt, accuracy_svm],\n",
        "    'Macro F1': [f1_macro_nb, f1_macro_dt, f1_macro_svm]\n",
        "})"
      ]
    },
    {
      "cell_type": "code",
      "execution_count": null,
      "metadata": {
        "colab": {
          "base_uri": "https://localhost:8080/"
        },
        "id": "PXcD92gGcrPc",
        "outputId": "b8d83567-7a4a-4e50-e0a8-b66e2f40a24f"
      },
      "outputs": [
        {
          "name": "stdout",
          "output_type": "stream",
          "text": [
            "   Classificador  Acurácia  Macro F1\n",
            "0    Naive Bayes  0.065114  0.064937\n",
            "1  Decision Tree  0.929084  0.546323\n",
            "2            SVM  0.960431  0.489908\n"
          ]
        }
      ],
      "source": [
        "print(resultado)"
      ]
    },
    {
      "cell_type": "markdown",
      "metadata": {
        "id": "naRotma2dEzA"
      },
      "source": [
        "**O melhor resultado na acurácia é com o modelo SVM, já para o Macro F1 é com o Decision Tree**"
      ]
    },
    {
      "cell_type": "markdown",
      "metadata": {
        "id": "jJDo0mCYeuby"
      },
      "source": [
        "**A árvore de decisão deve ser escolhido, pois a macro f1 mede de forma mais eficiente a presição do modelo**"
      ]
    }
  ],
  "metadata": {
    "colab": {
      "provenance": []
    },
    "kernelspec": {
      "display_name": "Python 3",
      "name": "python3"
    },
    "language_info": {
      "name": "python"
    }
  },
  "nbformat": 4,
  "nbformat_minor": 0
}
