{
 "cells": [
  {
   "cell_type": "markdown",
   "metadata": {
    "id": "ZIPqU9udsx0Q"
   },
   "source": [
    "**Testando o AUTOGLOUN**"
   ]
  },
  {
   "cell_type": "code",
   "execution_count": 1,
   "metadata": {
    "colab": {
     "base_uri": "https://localhost:8080/"
    },
    "executionInfo": {
     "elapsed": 2037,
     "status": "ok",
     "timestamp": 1725839167143,
     "user": {
      "displayName": "Pedro Gabriel Barruetavena Vieira",
      "userId": "05781803319001527728"
     },
     "user_tz": 180
    },
    "id": "1EsscgRj9vyn",
    "outputId": "7b3363db-750e-4474-d635-f8c7ec51edaa"
   },
   "outputs": [
    {
     "name": "stdout",
     "output_type": "stream",
     "text": [
      "Drive already mounted at /gdrive; to attempt to forcibly remount, call drive.mount(\"/gdrive\", force_remount=True).\n",
      "/gdrive/MyDrive/rdc/tei\n"
     ]
    }
   ],
   "source": [
    "from google.colab import drive\n",
    "\n",
    "drive.mount('/gdrive')\n",
    "%cd /gdrive/MyDrive/rdc/tei"
   ]
  },
  {
   "cell_type": "code",
   "execution_count": 2,
   "metadata": {
    "executionInfo": {
     "elapsed": 28414,
     "status": "ok",
     "timestamp": 1725839201439,
     "user": {
      "displayName": "Pedro Gabriel Barruetavena Vieira",
      "userId": "05781803319001527728"
     },
     "user_tz": 180
    },
    "id": "iOUDR9LW9xfh"
   },
   "outputs": [],
   "source": [
    "import pandas as pd\n",
    "\n",
    "train_df = pd.read_csv('train.csv')\n",
    "test_df = pd.read_csv('test.csv')"
   ]
  },
  {
   "cell_type": "code",
   "execution_count": 15,
   "metadata": {
    "executionInfo": {
     "elapsed": 7308,
     "status": "ok",
     "timestamp": 1725841773357,
     "user": {
      "displayName": "Pedro Gabriel Barruetavena Vieira",
      "userId": "05781803319001527728"
     },
     "user_tz": 180
    },
    "id": "UHSvD3VML2re"
   },
   "outputs": [],
   "source": [
    "test_df = pd.read_csv('test.csv')"
   ]
  },
  {
   "cell_type": "code",
   "execution_count": 3,
   "metadata": {
    "executionInfo": {
     "elapsed": 13107,
     "status": "ok",
     "timestamp": 1725839218092,
     "user": {
      "displayName": "Pedro Gabriel Barruetavena Vieira",
      "userId": "05781803319001527728"
     },
     "user_tz": 180
    },
    "id": "daF3WD5D-YW-"
   },
   "outputs": [],
   "source": [
    "from sklearn.model_selection import train_test_split\n",
    "\n",
    "X = train_df.drop(columns=['class'])\n",
    "y = train_df['class']\n",
    "X_train, X_val, y_train, y_val = train_test_split(X, y, test_size=0.2, random_state=42)\n",
    "\n",
    "at_train = X_train.copy()\n",
    "at_train['class'] = y_train\n",
    "\n",
    "at_val = X_val.copy()\n",
    "at_val['class'] = y_val"
   ]
  },
  {
   "cell_type": "code",
   "execution_count": 6,
   "metadata": {
    "executionInfo": {
     "elapsed": 265,
     "status": "ok",
     "timestamp": 1725839356817,
     "user": {
      "displayName": "Pedro Gabriel Barruetavena Vieira",
      "userId": "05781803319001527728"
     },
     "user_tz": 180
    },
    "id": "5DurRdFNCnUD"
   },
   "outputs": [],
   "source": [
    "import numpy as np\n",
    "import pandas as pd\n",
    "from autogluon.tabular import TabularPredictor\n",
    "from sklearn.metrics import matthews_corrcoef\n",
    "def mcc_metric(y_true, y_pred):\n",
    "    return matthews_corrcoef(y_true, y_pred)"
   ]
  },
  {
   "cell_type": "code",
   "execution_count": 8,
   "metadata": {
    "colab": {
     "base_uri": "https://localhost:8080/"
    },
    "executionInfo": {
     "elapsed": 845477,
     "status": "ok",
     "timestamp": 1725840370437,
     "user": {
      "displayName": "Pedro Gabriel Barruetavena Vieira",
      "userId": "05781803319001527728"
     },
     "user_tz": 180
    },
    "id": "3sEakP5q9Bf9",
    "outputId": "c6149f9e-5383-44b5-86ad-ba1b739995a6"
   },
   "outputs": [
    {
     "name": "stderr",
     "output_type": "stream",
     "text": [
      "No path specified. Models will be saved in: \"AutogluonModels/ag-20240908_235205\"\n",
      "Verbosity: 2 (Standard Logging)\n",
      "=================== System Info ===================\n",
      "AutoGluon Version:  1.1.1\n",
      "Python Version:     3.10.12\n",
      "Operating System:   Linux\n",
      "Platform Machine:   x86_64\n",
      "Platform Version:   #1 SMP PREEMPT_DYNAMIC Thu Jun 27 21:05:47 UTC 2024\n",
      "CPU Count:          2\n",
      "Memory Avail:       7.32 GB / 12.67 GB (57.8%)\n",
      "Disk Space Avail:   6.67 GB / 15.00 GB (44.5%)\n",
      "\tWARNING: Available disk space is low and there is a risk that AutoGluon will run out of disk during fit, causing an exception. \n",
      "\tWe recommend a minimum available disk space of 10 GB, and large datasets may require more.\n",
      "===================================================\n",
      "No presets specified! To achieve strong results with AutoGluon, it is recommended to use the available presets.\n",
      "\tRecommended Presets (For more details refer to https://auto.gluon.ai/stable/tutorials/tabular/tabular-essentials.html#presets):\n",
      "\tpresets='best_quality'   : Maximize accuracy. Default time_limit=3600.\n",
      "\tpresets='high_quality'   : Strong accuracy with fast inference speed. Default time_limit=3600.\n",
      "\tpresets='good_quality'   : Good accuracy with very fast inference speed. Default time_limit=3600.\n",
      "\tpresets='medium_quality' : Fast training time, ideal for initial prototyping.\n",
      "Beginning AutoGluon training ... Time limit = 600s\n",
      "AutoGluon will save models to \"AutogluonModels/ag-20240908_235205\"\n",
      "Train Data Rows:    2493556\n",
      "Train Data Columns: 21\n",
      "Label Column:       class\n",
      "AutoGluon infers your prediction problem is: 'binary' (because only two unique label-values observed).\n",
      "\t2 unique label values:  ['p', 'e']\n",
      "\tIf 'binary' is not the correct problem_type, please manually specify the problem_type parameter during Predictor init (You may specify problem_type as one of: ['binary', 'multiclass', 'regression', 'quantile'])\n",
      "Problem Type:       binary\n",
      "Preprocessing data ...\n",
      "Selected class <--> label mapping:  class 1 = p, class 0 = e\n",
      "\tNote: For your binary classification, AutoGluon arbitrarily selected which label-value represents positive (p) vs negative (e) class.\n",
      "\tTo explicitly set the positive_class, either rename classes to 1 and 0, or specify positive_class in Predictor init.\n",
      "Using Feature Generators to preprocess the data ...\n",
      "Fitting AutoMLPipelineFeatureGenerator...\n",
      "\tAvailable Memory:                    9157.10 MB\n",
      "\tTrain Data (Original)  Memory Usage: 2105.95 MB (23.0% of available memory)\n",
      "\tWarning: Data size prior to feature transformation consumes 23.0% of available memory. Consider increasing memory or subsampling the data to avoid instability.\n",
      "\tInferring data type of each feature based on column values. Set feature_metadata_in to manually specify special dtypes of the features.\n",
      "\tStage 1 Generators:\n",
      "\t\tFitting AsTypeFeatureGenerator...\n",
      "\tStage 2 Generators:\n",
      "\t\tFitting FillNaFeatureGenerator...\n",
      "\tStage 3 Generators:\n",
      "\t\tFitting IdentityFeatureGenerator...\n",
      "\t\tFitting CategoryFeatureGenerator...\n",
      "\t\t\tFitting CategoryMemoryMinimizeFeatureGenerator...\n",
      "\tStage 4 Generators:\n",
      "\t\tFitting DropUniqueFeatureGenerator...\n",
      "\tStage 5 Generators:\n",
      "\t\tFitting DropDuplicatesFeatureGenerator...\n",
      "\tTypes of features in original data (raw dtype, special dtypes):\n",
      "\t\t('float', [])  :  3 | ['cap-diameter', 'stem-height', 'stem-width']\n",
      "\t\t('int', [])    :  1 | ['id']\n",
      "\t\t('object', []) : 17 | ['cap-shape', 'cap-surface', 'cap-color', 'does-bruise-or-bleed', 'gill-attachment', ...]\n",
      "\tTypes of features in processed data (raw dtype, special dtypes):\n",
      "\t\t('category', []) : 17 | ['cap-shape', 'cap-surface', 'cap-color', 'does-bruise-or-bleed', 'gill-attachment', ...]\n",
      "\t\t('float', [])    :  3 | ['cap-diameter', 'stem-height', 'stem-width']\n",
      "\t\t('int', [])      :  1 | ['id']\n",
      "\t32.7s = Fit runtime\n",
      "\t21 features in original data used to generate 21 features in processed data.\n",
      "\tTrain Data (Processed) Memory Usage: 116.53 MB (1.3% of available memory)\n",
      "Data preprocessing and feature engineering runtime = 37.95s ...\n",
      "AutoGluon will gauge predictive performance using evaluation metric: 'mcc'\n",
      "\tTo change this, specify the eval_metric parameter of Predictor()\n",
      "Automatically generating train/validation split with holdout_frac=0.01, Train Rows: 2468620, Val Rows: 24936\n",
      "User-specified model hyperparameters to be fit:\n",
      "{\n",
      "\t'NN_TORCH': {},\n",
      "\t'GBM': [{'extra_trees': True, 'ag_args': {'name_suffix': 'XT'}}, {}, 'GBMLarge'],\n",
      "\t'CAT': {},\n",
      "\t'XGB': {},\n",
      "\t'FASTAI': {},\n",
      "\t'RF': [{'criterion': 'gini', 'ag_args': {'name_suffix': 'Gini', 'problem_types': ['binary', 'multiclass']}}, {'criterion': 'entropy', 'ag_args': {'name_suffix': 'Entr', 'problem_types': ['binary', 'multiclass']}}, {'criterion': 'squared_error', 'ag_args': {'name_suffix': 'MSE', 'problem_types': ['regression', 'quantile']}}],\n",
      "\t'XT': [{'criterion': 'gini', 'ag_args': {'name_suffix': 'Gini', 'problem_types': ['binary', 'multiclass']}}, {'criterion': 'entropy', 'ag_args': {'name_suffix': 'Entr', 'problem_types': ['binary', 'multiclass']}}, {'criterion': 'squared_error', 'ag_args': {'name_suffix': 'MSE', 'problem_types': ['regression', 'quantile']}}],\n",
      "\t'KNN': [{'weights': 'uniform', 'ag_args': {'name_suffix': 'Unif'}}, {'weights': 'distance', 'ag_args': {'name_suffix': 'Dist'}}],\n",
      "}\n",
      "Fitting 13 L1 models ...\n",
      "Fitting model: KNeighborsUnif ... Training model for up to 562.05s of the 562.05s of remaining time.\n",
      "\t0.0811\t = Validation score   (mcc)\n",
      "\t17.33s\t = Training   runtime\n",
      "\t0.25s\t = Validation runtime\n",
      "Fitting model: KNeighborsDist ... Training model for up to 543.52s of the 543.52s of remaining time.\n",
      "\t0.0908\t = Validation score   (mcc)\n",
      "\t21.92s\t = Training   runtime\n",
      "\t0.42s\t = Validation runtime\n",
      "Fitting model: LightGBMXT ... Training model for up to 519.95s of the 519.95s of remaining time.\n",
      "/usr/local/lib/python3.10/dist-packages/dask/dataframe/__init__.py:42: FutureWarning: \n",
      "Dask dataframe query planning is disabled because dask-expr is not installed.\n",
      "\n",
      "You can install it with `pip install dask[dataframe]` or `conda install dask`.\n",
      "This will raise in a future version.\n",
      "\n",
      "  warnings.warn(msg, FutureWarning)\n"
     ]
    },
    {
     "name": "stdout",
     "output_type": "stream",
     "text": [
      "[1000]\tvalid_set's binary_logloss: 0.034991\tvalid_set's mcc: 0.985603\n"
     ]
    },
    {
     "name": "stderr",
     "output_type": "stream",
     "text": [
      "\tRan out of time, early stopping on iteration 1217. Best iteration is:\n",
      "\t[1167]\tvalid_set's binary_logloss: 0.0348591\tvalid_set's mcc: 0.985927\n",
      "\t0.9859\t = Validation score   (mcc)\n",
      "\t524.11s\t = Training   runtime\n",
      "\t3.88s\t = Validation runtime\n",
      "Fitting model: WeightedEnsemble_L2 ... Training model for up to 360.0s of the -8.43s of remaining time.\n",
      "\tEnsemble Weights: {'LightGBMXT': 0.944, 'KNeighborsDist': 0.056}\n",
      "\t0.9859\t = Validation score   (mcc)\n",
      "\t0.96s\t = Training   runtime\n",
      "\t0.01s\t = Validation runtime\n",
      "AutoGluon training complete, total runtime = 612.6s ... Best model: WeightedEnsemble_L2 | Estimated inference throughput: 5780.5 rows/s (24936 batch size)\n",
      "TabularPredictor saved. To load, use: predictor = TabularPredictor.load(\"AutogluonModels/ag-20240908_235205\")\n"
     ]
    },
    {
     "name": "stdout",
     "output_type": "stream",
     "text": [
      "{'mcc': 0.9841895864596668, 'accuracy': 0.9921621972797082, 'balanced_accuracy': 0.9921860417173459, 'roc_auc': 0.9961363682925235, 'f1': 0.992829131981543, 'precision': 0.9937275248548664, 'recall': 0.9919323620495496}\n"
     ]
    }
   ],
   "source": [
    "from autogluon.tabular import TabularPredictor\n",
    "\n",
    "predictor = TabularPredictor(label='class', eval_metric='mcc').fit(train_data=at_train, time_limit=600)\n",
    "\n",
    "predictions = predictor.predict(at_val)\n",
    "\n",
    "performance = predictor.evaluate(at_val)\n",
    "print(performance)"
   ]
  },
  {
   "cell_type": "code",
   "execution_count": 9,
   "metadata": {
    "executionInfo": {
     "elapsed": 2433,
     "status": "ok",
     "timestamp": 1725841113703,
     "user": {
      "displayName": "Pedro Gabriel Barruetavena Vieira",
      "userId": "05781803319001527728"
     },
     "user_tz": 180
    },
    "id": "GF6VY-G4_D0R"
   },
   "outputs": [],
   "source": [
    "from sklearn.metrics import matthews_corrcoef\n",
    "\n",
    "mcc_score = matthews_corrcoef(y_val, predictions)"
   ]
  },
  {
   "cell_type": "code",
   "execution_count": 10,
   "metadata": {
    "colab": {
     "base_uri": "https://localhost:8080/"
    },
    "executionInfo": {
     "elapsed": 316,
     "status": "ok",
     "timestamp": 1725841134881,
     "user": {
      "displayName": "Pedro Gabriel Barruetavena Vieira",
      "userId": "05781803319001527728"
     },
     "user_tz": 180
    },
    "id": "3wzFwTD3Ja-3",
    "outputId": "82156538-4e25-48b3-c0c8-0fa5aed4dd58"
   },
   "outputs": [
    {
     "name": "stdout",
     "output_type": "stream",
     "text": [
      "0.9841895864596668\n"
     ]
    }
   ],
   "source": [
    "print(mcc_score)"
   ]
  },
  {
   "cell_type": "markdown",
   "metadata": {
    "id": "-WFvaeNoOIQ1"
   },
   "source": [
    "Kaggle Score: 0.98446  \n",
    "Mcc score: 0.9841895864596668"
   ]
  },
  {
   "cell_type": "code",
   "execution_count": null,
   "metadata": {
    "id": "wP_lD22GN9N1"
   },
   "outputs": [],
   "source": [
    "predictions = predictor.predict(test_df)"
   ]
  },
  {
   "cell_type": "code",
   "execution_count": 12,
   "metadata": {
    "executionInfo": {
     "elapsed": 5876,
     "status": "ok",
     "timestamp": 1725841632161,
     "user": {
      "displayName": "Pedro Gabriel Barruetavena Vieira",
      "userId": "05781803319001527728"
     },
     "user_tz": 180
    },
    "id": "W3BCL0aIJxpg"
   },
   "outputs": [],
   "source": [
    "test_df['class'] = predictions\n",
    "test_df['class'].replace({0: 'e', 1: 'p'}, inplace=True)\n",
    "test_df[[\"id\",\"class\"]].to_csv(\"autogloun.csv\", index=False)"
   ]
  },
  {
   "cell_type": "markdown",
   "metadata": {
    "id": "vanKPebTs2E0"
   },
   "source": [
    "**MELHOR RESULTADO GERAL**"
   ]
  }
 ],
 "metadata": {
  "colab": {
   "authorship_tag": "ABX9TyNgat9PM8VSNjjMju1Uj1ad",
   "provenance": []
  },
  "kernelspec": {
   "display_name": "Python 3",
   "name": "python3"
  },
  "language_info": {
   "name": "python"
  }
 },
 "nbformat": 4,
 "nbformat_minor": 0
}
